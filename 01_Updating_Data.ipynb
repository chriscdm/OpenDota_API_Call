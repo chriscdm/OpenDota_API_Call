{
 "cells": [
  {
   "cell_type": "markdown",
   "metadata": {},
   "source": [
    "# Updating data with most recent matches"
   ]
  },
  {
   "cell_type": "code",
   "execution_count": 17,
   "metadata": {
    "collapsed": true
   },
   "outputs": [],
   "source": [
    "import pandas as pd\n",
    "import numpy as np\n",
    "import requests\n",
    "import json\n",
    "import time"
   ]
  },
  {
   "cell_type": "code",
   "execution_count": 18,
   "metadata": {
    "collapsed": true
   },
   "outputs": [],
   "source": [
    "# Read in the most recent dataframe\n",
    "\n",
    "matches = pd.read_pickle('/Users/christophermarker/Documents/Pipeline_sample/assets/master_match_list')"
   ]
  },
  {
   "cell_type": "code",
   "execution_count": 19,
   "metadata": {
    "collapsed": true
   },
   "outputs": [],
   "source": [
    "# Assign a value to the most recent match in my current database\n",
    "\n",
    "most_recent = list(matches.match_id)[0]"
   ]
  },
  {
   "cell_type": "code",
   "execution_count": 20,
   "metadata": {
    "collapsed": true
   },
   "outputs": [],
   "source": [
    "# Call the API to get the most recent 100 professional matches\n",
    "\n",
    "response = requests.get('https://api.opendota.com/api/proMatches')\n",
    "updates = pd.DataFrame.from_dict(response.json(), orient='columns')"
   ]
  },
  {
   "cell_type": "code",
   "execution_count": 21,
   "metadata": {
    "collapsed": true
   },
   "outputs": [],
   "source": [
    "# Create a value to remain constant until stopping condition is found\n",
    "\n",
    "n = 1"
   ]
  },
  {
   "cell_type": "code",
   "execution_count": 22,
   "metadata": {
    "collapsed": true
   },
   "outputs": [],
   "source": [
    "# Check to see if my most recent match was contained within the most recent 100 professional matches\n",
    "# If the match was not found, continue calling the API until the most recent professional match is found\n",
    "\n",
    "for i in response.json():\n",
    "    if i['match_id'] != most_recent:\n",
    "        continue\n",
    "    else:\n",
    "        n = 0\n",
    "\n",
    "while n == 1:          \n",
    "    response = requests.get('https://api.opendota.com/api/proMatches?less_than_match_id=' + \n",
    "                            str(list(updates.match_id)[-1]))\n",
    "    if response.status_code == 200:\n",
    "        df = pd.DataFrame.from_dict(response.json(), orient='columns')\n",
    "        updates = updates.append(df)\n",
    "    else:\n",
    "        time.sleep(10.0)\n",
    "        pass\n",
    "    \n",
    "    try:\n",
    "        for i in response.json():\n",
    "            if i['match_id'] != most_recent:\n",
    "                continue\n",
    "            else:\n",
    "                n = 0\n",
    "    except:\n",
    "        pass"
   ]
  },
  {
   "cell_type": "code",
   "execution_count": 23,
   "metadata": {
    "collapsed": true
   },
   "outputs": [],
   "source": [
    "# Combine the updates with the main database\n",
    "\n",
    "updated_matches = updates.append(matches)"
   ]
  },
  {
   "cell_type": "code",
   "execution_count": 24,
   "metadata": {
    "collapsed": true
   },
   "outputs": [],
   "source": [
    "# Sort values to put newest matches at the top of the dataframe\n",
    "# Remove matches with duplicate IDs\n",
    "\n",
    "updated_matches.sort_values(by=['match_id'], axis=0, ascending=False, inplace=True)\n",
    "updated_matches.drop_duplicates(subset='match_id', keep='first', inplace=True)"
   ]
  },
  {
   "cell_type": "code",
   "execution_count": 25,
   "metadata": {},
   "outputs": [
    {
     "name": "stdout",
     "output_type": "stream",
     "text": [
      "There have been 95 professional matches played since the last update.\n"
     ]
    }
   ],
   "source": [
    "# A print statement to tell the user how many professional matches have been recorded since the last update\n",
    "\n",
    "print('There have been ' + str(updated_matches.shape[0] - matches.shape[0]) + \n",
    "      ' professional matches played since the last update.')"
   ]
  },
  {
   "cell_type": "code",
   "execution_count": 26,
   "metadata": {
    "collapsed": true
   },
   "outputs": [],
   "source": [
    "# Ressetting the index of the dataframe\n",
    "\n",
    "updated_matches.reset_index(inplace = True)\n",
    "updated_matches.drop('index', axis=1, inplace = True)"
   ]
  },
  {
   "cell_type": "code",
   "execution_count": 27,
   "metadata": {
    "collapsed": true
   },
   "outputs": [],
   "source": [
    "# Updating the master match list\n",
    "\n",
    "updated_matches.to_pickle('/Users/christophermarker/Documents/Pipeline_sample/assets/master_match_list')"
   ]
  },
  {
   "cell_type": "code",
   "execution_count": 28,
   "metadata": {
    "collapsed": true
   },
   "outputs": [],
   "source": [
    "# Creating a timestamped backup version of the new master match list\n",
    "\n",
    "updated_matches.to_pickle('/Users/christophermarker/Documents/Pipeline_sample/assets/' + str(int(time.time())) + '_' +\n",
    "                  'previous_match_list')"
   ]
  },
  {
   "cell_type": "code",
   "execution_count": null,
   "metadata": {
    "collapsed": true
   },
   "outputs": [],
   "source": []
  }
 ],
 "metadata": {
  "kernelspec": {
   "display_name": "Python [default]",
   "language": "python",
   "name": "python3"
  },
  "language_info": {
   "codemirror_mode": {
    "name": "ipython",
    "version": 3
   },
   "file_extension": ".py",
   "mimetype": "text/x-python",
   "name": "python",
   "nbconvert_exporter": "python",
   "pygments_lexer": "ipython3",
   "version": "3.6.4"
  }
 },
 "nbformat": 4,
 "nbformat_minor": 2
}
