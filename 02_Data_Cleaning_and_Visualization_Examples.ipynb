{
 "cells": [
  {
   "cell_type": "markdown",
   "metadata": {},
   "source": [
    "# Data Cleaning and Visualization Examples"
   ]
  },
  {
   "cell_type": "code",
   "execution_count": 9,
   "metadata": {},
   "outputs": [],
   "source": [
    "import pandas as pd\n",
    "import json\n",
    "import time\n",
    "import datetime\n",
    "import numpy as np\n",
    "import seaborn as sns\n",
    "import matplotlib.pyplot as plt\n",
    "import pandas as pd\n",
    "import math\n",
    "from sqlalchemy import create_engine\n",
    "import mysql.connector\n",
    "\n",
    "%matplotlib inline\n",
    "%config InlineBackend.figure_format = 'retina'"
   ]
  },
  {
   "cell_type": "code",
   "execution_count": 2,
   "metadata": {
    "collapsed": true
   },
   "outputs": [],
   "source": [
    "# Read in the most recent dataframe (locally) and reduce to needed fields\n",
    "\n",
    "matches = pd.read_pickle('/Users/christophermarker/Documents/Pipeline_sample/assets/master_match_list')\n",
    "\n",
    "matches = matches[['dire_name', 'match_id', 'radiant_name', 'radiant_win']]"
   ]
  },
  {
   "cell_type": "code",
   "execution_count": 121,
   "metadata": {},
   "outputs": [],
   "source": [
    "# Read in the most recent datafram from AWS MySQL server\n",
    "\n",
    "import mysql.connector as sql\n",
    "\n",
    "db_connection = sql.connect(host='opendota.cvujeq1nc3sk.us-east-1.rds.amazonaws.com', database='opendota', user='chriscdm', password='Munky7!!!')\n",
    "\n",
    "matches = pd.read_sql('SELECT * FROM 1552320353_match_list', con=db_connection)\n",
    "\n"
   ]
  },
  {
   "cell_type": "code",
   "execution_count": 122,
   "metadata": {},
   "outputs": [],
   "source": [
    "# Change the radiant_win field to boolean type\n",
    "\n",
    "matches['radiant_win'] = matches['radiant_win'].astype(bool)"
   ]
  },
  {
   "cell_type": "code",
   "execution_count": 123,
   "metadata": {},
   "outputs": [
    {
     "data": {
      "text/html": [
       "<div>\n",
       "<style scoped>\n",
       "    .dataframe tbody tr th:only-of-type {\n",
       "        vertical-align: middle;\n",
       "    }\n",
       "\n",
       "    .dataframe tbody tr th {\n",
       "        vertical-align: top;\n",
       "    }\n",
       "\n",
       "    .dataframe thead th {\n",
       "        text-align: right;\n",
       "    }\n",
       "</style>\n",
       "<table border=\"1\" class=\"dataframe\">\n",
       "  <thead>\n",
       "    <tr style=\"text-align: right;\">\n",
       "      <th></th>\n",
       "      <th>dire_name</th>\n",
       "      <th>match_id</th>\n",
       "      <th>radiant_name</th>\n",
       "      <th>radiant_win</th>\n",
       "    </tr>\n",
       "  </thead>\n",
       "  <tbody>\n",
       "    <tr>\n",
       "      <th>0</th>\n",
       "      <td>MONERA</td>\n",
       "      <td>4519896063</td>\n",
       "      <td>496 Gaming</td>\n",
       "      <td>True</td>\n",
       "    </tr>\n",
       "    <tr>\n",
       "      <th>1</th>\n",
       "      <td>Guardian Gaming</td>\n",
       "      <td>4519687608</td>\n",
       "      <td>Guardian Gaming2</td>\n",
       "      <td>False</td>\n",
       "    </tr>\n",
       "    <tr>\n",
       "      <th>2</th>\n",
       "      <td>YOSHIMOTO.DETONATOR</td>\n",
       "      <td>4519527039</td>\n",
       "      <td>Aura</td>\n",
       "      <td>False</td>\n",
       "    </tr>\n",
       "    <tr>\n",
       "      <th>3</th>\n",
       "      <td>YOSHIMOTO.DETONATOR</td>\n",
       "      <td>4519253725</td>\n",
       "      <td>Aura</td>\n",
       "      <td>False</td>\n",
       "    </tr>\n",
       "    <tr>\n",
       "      <th>4</th>\n",
       "      <td>Neon Esports</td>\n",
       "      <td>4519210573</td>\n",
       "      <td>Team HighGround</td>\n",
       "      <td>False</td>\n",
       "    </tr>\n",
       "  </tbody>\n",
       "</table>\n",
       "</div>"
      ],
      "text/plain": [
       "             dire_name    match_id      radiant_name  radiant_win\n",
       "0               MONERA  4519896063        496 Gaming         True\n",
       "1      Guardian Gaming  4519687608  Guardian Gaming2        False\n",
       "2  YOSHIMOTO.DETONATOR  4519527039              Aura        False\n",
       "3  YOSHIMOTO.DETONATOR  4519253725              Aura        False\n",
       "4         Neon Esports  4519210573   Team HighGround        False"
      ]
     },
     "execution_count": 123,
     "metadata": {},
     "output_type": "execute_result"
    }
   ],
   "source": [
    "matches.head()"
   ]
  },
  {
   "cell_type": "markdown",
   "metadata": {},
   "source": [
    "# Showing professional teams with the most wins"
   ]
  },
  {
   "cell_type": "code",
   "execution_count": 124,
   "metadata": {},
   "outputs": [],
   "source": [
    "# Create a column with the winning team\n",
    "\n",
    "matches['winning_team'] = [matches.loc[ i , : ][2] if matches.loc[ i , : ][3] == True else \n",
    "                           matches.loc[ i , : ][0] for i in matches.index]"
   ]
  },
  {
   "cell_type": "code",
   "execution_count": 125,
   "metadata": {
    "collapsed": true
   },
   "outputs": [],
   "source": [
    "# A function to return a dataframe containing the team with the most wins in a given subset of matches\n",
    "\n",
    "def Most_Wins(matches=matches, n=10, g=matches.shape[0]):\n",
    "    \n",
    "    if g == matches.shape[0]:\n",
    "        matches2 = matches\n",
    "    else:\n",
    "        matches2 = matches.head(g)\n",
    "\n",
    "    mw = pd.DataFrame(matches2['winning_team'][matches2['winning_team'] != ''].value_counts())\n",
    "    mw.index.rename('Team Name', inplace=True)\n",
    "    mw.rename(columns={'winning_team':'# of wins'}, inplace=True)\n",
    "    mw.reset_index(inplace = True)\n",
    "\n",
    "    return mw.head(n)"
   ]
  },
  {
   "cell_type": "code",
   "execution_count": 126,
   "metadata": {},
   "outputs": [
    {
     "data": {
      "text/html": [
       "<div>\n",
       "<style scoped>\n",
       "    .dataframe tbody tr th:only-of-type {\n",
       "        vertical-align: middle;\n",
       "    }\n",
       "\n",
       "    .dataframe tbody tr th {\n",
       "        vertical-align: top;\n",
       "    }\n",
       "\n",
       "    .dataframe thead th {\n",
       "        text-align: right;\n",
       "    }\n",
       "</style>\n",
       "<table border=\"1\" class=\"dataframe\">\n",
       "  <thead>\n",
       "    <tr style=\"text-align: right;\">\n",
       "      <th></th>\n",
       "      <th>Team Name</th>\n",
       "      <th># of wins</th>\n",
       "    </tr>\n",
       "  </thead>\n",
       "  <tbody>\n",
       "    <tr>\n",
       "      <th>0</th>\n",
       "      <td>Team Empire</td>\n",
       "      <td>1128</td>\n",
       "    </tr>\n",
       "    <tr>\n",
       "      <th>1</th>\n",
       "      <td>PSG.LGD</td>\n",
       "      <td>1083</td>\n",
       "    </tr>\n",
       "    <tr>\n",
       "      <th>2</th>\n",
       "      <td>Virtus.pro</td>\n",
       "      <td>1077</td>\n",
       "    </tr>\n",
       "    <tr>\n",
       "      <th>3</th>\n",
       "      <td>Evil Geniuses</td>\n",
       "      <td>976</td>\n",
       "    </tr>\n",
       "    <tr>\n",
       "      <th>4</th>\n",
       "      <td>\\tVici Gaming</td>\n",
       "      <td>953</td>\n",
       "    </tr>\n",
       "    <tr>\n",
       "      <th>5</th>\n",
       "      <td>INVICTUS GAMING</td>\n",
       "      <td>939</td>\n",
       "    </tr>\n",
       "    <tr>\n",
       "      <th>6</th>\n",
       "      <td>Natus Vincere</td>\n",
       "      <td>900</td>\n",
       "    </tr>\n",
       "    <tr>\n",
       "      <th>7</th>\n",
       "      <td>Alliance</td>\n",
       "      <td>878</td>\n",
       "    </tr>\n",
       "    <tr>\n",
       "      <th>8</th>\n",
       "      <td>Fnatic</td>\n",
       "      <td>870</td>\n",
       "    </tr>\n",
       "    <tr>\n",
       "      <th>9</th>\n",
       "      <td>Newbee</td>\n",
       "      <td>829</td>\n",
       "    </tr>\n",
       "  </tbody>\n",
       "</table>\n",
       "</div>"
      ],
      "text/plain": [
       "         Team Name  # of wins\n",
       "0      Team Empire       1128\n",
       "1          PSG.LGD       1083\n",
       "2       Virtus.pro       1077\n",
       "3    Evil Geniuses        976\n",
       "4    \\tVici Gaming        953\n",
       "5  INVICTUS GAMING        939\n",
       "6    Natus Vincere        900\n",
       "7         Alliance        878\n",
       "8           Fnatic        870\n",
       "9           Newbee        829"
      ]
     },
     "execution_count": 126,
     "metadata": {},
     "output_type": "execute_result"
    }
   ],
   "source": [
    "# running the function with standard inputs\n",
    "# (returns the 10 teams with all time most wins)\n",
    "\n",
    "Most_Wins()"
   ]
  },
  {
   "cell_type": "code",
   "execution_count": 132,
   "metadata": {},
   "outputs": [
    {
     "data": {
      "text/html": [
       "<div>\n",
       "<style scoped>\n",
       "    .dataframe tbody tr th:only-of-type {\n",
       "        vertical-align: middle;\n",
       "    }\n",
       "\n",
       "    .dataframe tbody tr th {\n",
       "        vertical-align: top;\n",
       "    }\n",
       "\n",
       "    .dataframe thead th {\n",
       "        text-align: right;\n",
       "    }\n",
       "</style>\n",
       "<table border=\"1\" class=\"dataframe\">\n",
       "  <thead>\n",
       "    <tr style=\"text-align: right;\">\n",
       "      <th></th>\n",
       "      <th>Team Name</th>\n",
       "      <th># of wins</th>\n",
       "    </tr>\n",
       "  </thead>\n",
       "  <tbody>\n",
       "    <tr>\n",
       "      <th>0</th>\n",
       "      <td>KEEN GAMING</td>\n",
       "      <td>18</td>\n",
       "    </tr>\n",
       "    <tr>\n",
       "      <th>1</th>\n",
       "      <td>TNC Predator</td>\n",
       "      <td>14</td>\n",
       "    </tr>\n",
       "    <tr>\n",
       "      <th>2</th>\n",
       "      <td>TEAM UKRAINE</td>\n",
       "      <td>10</td>\n",
       "    </tr>\n",
       "    <tr>\n",
       "      <th>3</th>\n",
       "      <td>NoLifer5</td>\n",
       "      <td>9</td>\n",
       "    </tr>\n",
       "    <tr>\n",
       "      <th>4</th>\n",
       "      <td>\\tVici Gaming</td>\n",
       "      <td>9</td>\n",
       "    </tr>\n",
       "  </tbody>\n",
       "</table>\n",
       "</div>"
      ],
      "text/plain": [
       "       Team Name  # of wins\n",
       "0    KEEN GAMING         18\n",
       "1   TNC Predator         14\n",
       "2   TEAM UKRAINE         10\n",
       "3       NoLifer5          9\n",
       "4  \\tVici Gaming          9"
      ]
     },
     "execution_count": 132,
     "metadata": {},
     "output_type": "execute_result"
    }
   ],
   "source": [
    "# running the function with custom inputs\n",
    "# (returns the 5 teams with the most wins in the last 500 professional matches)\n",
    "\n",
    "Most_Wins(matches,5,500)"
   ]
  },
  {
   "cell_type": "markdown",
   "metadata": {},
   "source": [
    "# Creating a chart showing the win differential between radiant and dire side"
   ]
  },
  {
   "cell_type": "code",
   "execution_count": 133,
   "metadata": {
    "collapsed": true,
    "scrolled": true
   },
   "outputs": [],
   "source": [
    "# Create a function to plot the wins in a given subset of matches\n",
    "\n",
    "def Plot_Wins(matches=matches, x=matches.shape[0]):\n",
    "    \n",
    "    matches1 = matches.head(x)\n",
    "\n",
    "    wincounts = matches1['radiant_win'].value_counts().sort_index().plot(kind='bar')\n",
    "\n",
    "    bars = ['Dire Win', 'Radiant Win']\n",
    "    y_pos = np.arange(len(bars))\n",
    "    plt.xticks(y_pos, bars, rotation='horizontal')\n",
    "    x1,x2,y1,y2 = wincounts.axis()\n",
    "\n",
    "    t = matches1['radiant_win'].count()\n",
    "    for p in wincounts.patches:\n",
    "        wincounts.annotate(str(p.get_height()), (p.get_x() +.1, p.get_height() - (p.get_height() * .5)), weight='bold')\n",
    "        wincounts.annotate(str(round((p.get_height() / t * 100), 2)) + '%', \n",
    "                           (p.get_x() +.1, p.get_height() - ((p.get_height() * .50) + (.05 * y2))), weight='bold')\n",
    "        \n",
    "    if x == matches.shape[0]:\n",
    "        n = ''\n",
    "    else:\n",
    "        n = ' (' + str(matches1.shape[0]) + ' most recent matches)'\n",
    "    \n",
    "    plt.ylabel('# of Wins', fontweight='bold', fontsize='10', horizontalalignment='center')\n",
    "    plt.title('Radiant vs. Dire Side Wins' + n,  fontweight='bold', fontsize='12', horizontalalignment='center')"
   ]
  },
  {
   "cell_type": "code",
   "execution_count": 134,
   "metadata": {},
   "outputs": [
    {
     "data": {
      "image/png": "[encoded data removed]",
      "text/plain": [
       "<Figure size 432x288 with 1 Axes>"
      ]
     },
     "metadata": {
      "image/png": {
       "height": 263,
       "width": 403
      }
     },
     "output_type": "display_data"
    }
   ],
   "source": [
    "# Running the fucntion with standard inputs\n",
    "# (gives a bar chart including all professional matches)\n",
    "\n",
    "Plot_Wins()"
   ]
  },
  {
   "cell_type": "code",
   "execution_count": 135,
   "metadata": {
    "scrolled": true
   },
   "outputs": [
    {
     "data": {
      "image/png": "[encoded data removed]",
      "text/plain": [
       "<Figure size 432x288 with 1 Axes>"
      ]
     },
     "metadata": {
      "image/png": {
       "height": 263,
       "width": 398
      }
     },
     "output_type": "display_data"
    }
   ],
   "source": [
    "# Running the function with custom inputs\n",
    "# (gives a bar chart only including the most recent 100 professional matches)\n",
    "\n",
    "Plot_Wins(matches,100)"
   ]
  }
 ],
 "metadata": {
  "kernelspec": {
   "display_name": "Python [default]",
   "language": "python",
   "name": "python3"
  },
  "language_info": {
   "codemirror_mode": {
    "name": "ipython",
    "version": 3
   },
   "file_extension": ".py",
   "mimetype": "text/x-python",
   "name": "python",
   "nbconvert_exporter": "python",
   "pygments_lexer": "ipython3",
   "version": "3.6.4"
  }
 },
 "nbformat": 4,
 "nbformat_minor": 2
}
